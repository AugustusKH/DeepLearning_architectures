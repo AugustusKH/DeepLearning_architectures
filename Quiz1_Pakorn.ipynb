{
  "nbformat": 4,
  "nbformat_minor": 0,
  "metadata": {
    "colab": {
      "provenance": []
    },
    "kernelspec": {
      "name": "python3",
      "display_name": "Python 3"
    },
    "language_info": {
      "name": "python"
    }
  },
  "cells": [
    {
      "cell_type": "markdown",
      "source": [
        "**Quiz 1.**\n",
        "\n",
        "Type in your Student ID and full name in the box below."
      ],
      "metadata": {
        "id": "Arki_zhPoiwb"
      }
    },
    {
      "cell_type": "markdown",
      "source": [
        "### Type in your student ID and Name here\n",
        "ID 6581030520\n",
        "Name Pakorn Sagulkoo"
      ],
      "metadata": {
        "id": "SuXL3olrpZlc"
      }
    },
    {
      "cell_type": "code",
      "execution_count": 2,
      "metadata": {
        "colab": {
          "base_uri": "https://localhost:8080/"
        },
        "id": "YVCeuOb0oby9",
        "outputId": "229e4f98-8cc9-4f27-f00e-6eb36f87ad4f"
      },
      "outputs": [
        {
          "output_type": "stream",
          "name": "stdout",
          "text": [
            "\u001b[2K     \u001b[90m━━━━━━━━━━━━━━━━━━━━━━━━━━━━━━━━━━━━━━━━\u001b[0m \u001b[32m49.1/49.1 MB\u001b[0m \u001b[31m13.7 MB/s\u001b[0m eta \u001b[36m0:00:00\u001b[0m\n",
            "\u001b[?25h"
          ]
        }
      ],
      "source": [
        "# Must run this statement first\n",
        "!pip install --quiet mxnet"
      ]
    },
    {
      "cell_type": "markdown",
      "source": [
        "###1. Create tensors: $x_1$, $x_2$, $x_3$, $x_4$, $x_5$, $x_6$ and three constants $m$, $n$, and $k$ from following instructions."
      ],
      "metadata": {
        "id": "OXK3F0B4ptYL"
      }
    },
    {
      "cell_type": "markdown",
      "source": [
        "1.1. $m = 3$, $n = 5$, $k = 4$\n",
        "\n",
        "$x_1=\\left[7\\right]$, $x_2 = \\left[1 \\dots m\\right]$, $x_3=\\left[ \\begin{array}{ccc} 3 & -2 & 0\\\\ 2 & 1 &1\\end{array}\\right]$,\n",
        "\n",
        " $x_4 = $ matrix of 1's which dimension $(n-m) \\times n $, $x_5= \\left[ \\begin{array}{ccccc} 3 & -1 & 1 & -2 & 0\\end{array}\\right]$,\n",
        "\n",
        " $x_6= $ matrix of 1's which dimension equal to  $x_3 $."
      ],
      "metadata": {
        "id": "X2628eugqnas"
      }
    },
    {
      "cell_type": "code",
      "source": [
        "from mxnet import nd\n",
        "from mxnet import np"
      ],
      "metadata": {
        "id": "IinNIzWspkTb"
      },
      "execution_count": 18,
      "outputs": []
    },
    {
      "cell_type": "code",
      "source": [
        "m=3; n=5; k=4"
      ],
      "metadata": {
        "id": "1cgUv80tTxxN"
      },
      "execution_count": 4,
      "outputs": []
    },
    {
      "cell_type": "code",
      "source": [
        "x1 = nd.array([7]); x1"
      ],
      "metadata": {
        "colab": {
          "base_uri": "https://localhost:8080/"
        },
        "id": "FlSIr0jVEg-8",
        "outputId": "8a8ce27e-5f31-40eb-a57b-67203ca72b33"
      },
      "execution_count": 5,
      "outputs": [
        {
          "output_type": "execute_result",
          "data": {
            "text/plain": [
              "\n",
              "[7.]\n",
              "<NDArray 1 @cpu(0)>"
            ]
          },
          "metadata": {},
          "execution_count": 5
        }
      ]
    },
    {
      "cell_type": "code",
      "source": [
        "x2 = nd.arange(0, m); x2"
      ],
      "metadata": {
        "colab": {
          "base_uri": "https://localhost:8080/"
        },
        "id": "YS4lT7hREnRz",
        "outputId": "3af78ee4-0406-41e4-f310-5ac3229094db"
      },
      "execution_count": 6,
      "outputs": [
        {
          "output_type": "execute_result",
          "data": {
            "text/plain": [
              "\n",
              "[0. 1. 2.]\n",
              "<NDArray 3 @cpu(0)>"
            ]
          },
          "metadata": {},
          "execution_count": 6
        }
      ]
    },
    {
      "cell_type": "code",
      "source": [
        "x3 = nd.array([[3, -2, 0], [2, 1, 1]]); x3"
      ],
      "metadata": {
        "colab": {
          "base_uri": "https://localhost:8080/"
        },
        "id": "gblBUbDFFzEs",
        "outputId": "0c305ef8-4fd5-4a34-e19a-41173bddadac"
      },
      "execution_count": 7,
      "outputs": [
        {
          "output_type": "execute_result",
          "data": {
            "text/plain": [
              "\n",
              "[[ 3. -2.  0.]\n",
              " [ 2.  1.  1.]]\n",
              "<NDArray 2x3 @cpu(0)>"
            ]
          },
          "metadata": {},
          "execution_count": 7
        }
      ]
    },
    {
      "cell_type": "code",
      "source": [
        "x4 = nd.ones((n-m, n)); x4"
      ],
      "metadata": {
        "colab": {
          "base_uri": "https://localhost:8080/"
        },
        "id": "K5_6keeRGOHc",
        "outputId": "f07be88c-b15f-46ab-adee-eb30addebdf0"
      },
      "execution_count": 8,
      "outputs": [
        {
          "output_type": "execute_result",
          "data": {
            "text/plain": [
              "\n",
              "[[1. 1. 1. 1. 1.]\n",
              " [1. 1. 1. 1. 1.]]\n",
              "<NDArray 2x5 @cpu(0)>"
            ]
          },
          "metadata": {},
          "execution_count": 8
        }
      ]
    },
    {
      "cell_type": "code",
      "source": [
        "x5 = nd.array([3, -1, 1, -2, 0]); x5"
      ],
      "metadata": {
        "colab": {
          "base_uri": "https://localhost:8080/"
        },
        "id": "XzhNOpFOTDty",
        "outputId": "e1c5f93c-dfa9-4a12-8397-49359d53ecd8"
      },
      "execution_count": 9,
      "outputs": [
        {
          "output_type": "execute_result",
          "data": {
            "text/plain": [
              "\n",
              "[ 3. -1.  1. -2.  0.]\n",
              "<NDArray 5 @cpu(0)>"
            ]
          },
          "metadata": {},
          "execution_count": 9
        }
      ]
    },
    {
      "cell_type": "code",
      "source": [
        "x6 = nd.ones_like(x3); x6"
      ],
      "metadata": {
        "colab": {
          "base_uri": "https://localhost:8080/"
        },
        "id": "CtC1lo-aTD2Z",
        "outputId": "3933a6b5-b48e-4b98-96d5-30addb2d3289"
      },
      "execution_count": 10,
      "outputs": [
        {
          "output_type": "execute_result",
          "data": {
            "text/plain": [
              "\n",
              "[[1. 1. 1.]\n",
              " [1. 1. 1.]]\n",
              "<NDArray 2x3 @cpu(0)>"
            ]
          },
          "metadata": {},
          "execution_count": 10
        }
      ]
    },
    {
      "cell_type": "markdown",
      "source": [
        "1.2. From 1.1, find the expression that would generate the following results. You are not allowed to type any constant in your expression. You do not need to use the index for any expression."
      ],
      "metadata": {
        "id": "w27XtTuKvCwd"
      }
    },
    {
      "cell_type": "code",
      "source": [
        "# 1.2.1. The expression to generate\n",
        "#>> [[ 6. -4.  0.]\n",
        "#    [ 4.  2.  2.]]\n",
        "# is\n"
      ],
      "metadata": {
        "id": "wDlbc2EFuYqc"
      },
      "execution_count": 11,
      "outputs": []
    },
    {
      "cell_type": "code",
      "source": [
        "x3 + x3"
      ],
      "metadata": {
        "colab": {
          "base_uri": "https://localhost:8080/"
        },
        "id": "xRYGX9KuVFh-",
        "outputId": "a884905c-da2d-4524-dffb-3b89e0c4788a"
      },
      "execution_count": 12,
      "outputs": [
        {
          "output_type": "execute_result",
          "data": {
            "text/plain": [
              "\n",
              "[[ 6. -4.  0.]\n",
              " [ 4.  2.  2.]]\n",
              "<NDArray 2x3 @cpu(0)>"
            ]
          },
          "metadata": {},
          "execution_count": 12
        }
      ]
    },
    {
      "cell_type": "code",
      "source": [
        "# 1.2.2. The expression to generate\n",
        "#>> [[10.  5.  7.]\n",
        "#    [ 9.  8.  8.]]\n",
        "# is\n"
      ],
      "metadata": {
        "id": "M_skBKGuv6Iu"
      },
      "execution_count": 13,
      "outputs": []
    },
    {
      "cell_type": "code",
      "source": [
        "x3 + x1"
      ],
      "metadata": {
        "colab": {
          "base_uri": "https://localhost:8080/"
        },
        "id": "7OSbIITNVLFZ",
        "outputId": "70ec0f3d-2765-4d59-db39-d9ed5303f086"
      },
      "execution_count": 14,
      "outputs": [
        {
          "output_type": "execute_result",
          "data": {
            "text/plain": [
              "\n",
              "[[10.  5.  7.]\n",
              " [ 9.  8.  8.]]\n",
              "<NDArray 2x3 @cpu(0)>"
            ]
          },
          "metadata": {},
          "execution_count": 14
        }
      ]
    },
    {
      "cell_type": "code",
      "source": [
        "# 1.2.3. The expression to generate (Using .as_np_ndarray() to transform it to use with mx.np.matmul)\n",
        "#>> array([[ 5.,  5.,  5.,  5.,  5.],\n",
        "#          [-1., -1., -1., -1., -1.],\n",
        "#          [ 1.,  1.,  1.,  1.,  1.]])\n",
        "# is\n"
      ],
      "metadata": {
        "id": "Y-Qcnmo6v-q0"
      },
      "execution_count": 15,
      "outputs": []
    },
    {
      "cell_type": "code",
      "source": [
        "cx3_np = x3.as_np_ndarray()\n",
        "x4_np = x4.as_np_ndarray()\n",
        "np.matmul(x3_np.T, x4_np)"
      ],
      "metadata": {
        "colab": {
          "base_uri": "https://localhost:8080/"
        },
        "id": "WSgtSdZrVZS1",
        "outputId": "ee0dc84e-dafa-4dff-e502-bbfe235ca4e4"
      },
      "execution_count": 19,
      "outputs": [
        {
          "output_type": "execute_result",
          "data": {
            "text/plain": [
              "array([[ 5.,  5.,  5.,  5.,  5.],\n",
              "       [-1., -1., -1., -1., -1.],\n",
              "       [ 1.,  1.,  1.,  1.,  1.]])"
            ]
          },
          "metadata": {},
          "execution_count": 19
        }
      ]
    },
    {
      "cell_type": "code",
      "source": [
        "# 1.2.4. The expression to generate\n",
        "#>> array([[[[ 0.],\n",
        "#            [ 0.],\n",
        "#            [ 0.],\n",
        "#            [ 0.],\n",
        "#            [ 0.]]],\n",
        "#         [[[ 3.],\n",
        "#           [-1.],\n",
        "#           [ 1.],\n",
        "#           [-2.],\n",
        "#           [ 0.]]],\n",
        "#         [[[ 6.],\n",
        "#           [-2.],\n",
        "#           [ 2.],\n",
        "#           [-4.],\n",
        "#           [ 0.]]]])\n",
        "# is\n"
      ],
      "metadata": {
        "id": "cT9k7z9VwEHt"
      },
      "execution_count": 20,
      "outputs": []
    },
    {
      "cell_type": "code",
      "source": [
        "x5_np = x5.as_np_ndarray()\n",
        "x5_np = np.vstack(x5_np); x5_np"
      ],
      "metadata": {
        "colab": {
          "base_uri": "https://localhost:8080/"
        },
        "id": "S8pTt-UM35K6",
        "outputId": "4a6a8b8f-e83e-4066-f8e5-c1b8baac302b"
      },
      "execution_count": 21,
      "outputs": [
        {
          "output_type": "execute_result",
          "data": {
            "text/plain": [
              "array([[ 3.],\n",
              "       [-1.],\n",
              "       [ 1.],\n",
              "       [-2.],\n",
              "       [ 0.]])"
            ]
          },
          "metadata": {},
          "execution_count": 21
        }
      ]
    },
    {
      "cell_type": "code",
      "source": [
        "x2_np = x2.as_np_ndarray()\n",
        "x2_np = np.vstack(x2_np); x2_np"
      ],
      "metadata": {
        "colab": {
          "base_uri": "https://localhost:8080/"
        },
        "id": "K-ds7mMl3813",
        "outputId": "2d05455e-c85c-451c-b8ef-780de390008c"
      },
      "execution_count": 22,
      "outputs": [
        {
          "output_type": "execute_result",
          "data": {
            "text/plain": [
              "array([[0.],\n",
              "       [1.],\n",
              "       [2.]])"
            ]
          },
          "metadata": {},
          "execution_count": 22
        }
      ]
    },
    {
      "cell_type": "code",
      "source": [
        "x7 = np.matmul(x2_np, x5_np.T); x7"
      ],
      "metadata": {
        "colab": {
          "base_uri": "https://localhost:8080/"
        },
        "id": "_KFjWiwd5DcB",
        "outputId": "1f7e4c72-4d30-4970-aa91-79d9c6d49060"
      },
      "execution_count": 23,
      "outputs": [
        {
          "output_type": "execute_result",
          "data": {
            "text/plain": [
              "array([[ 0.,  0.,  0.,  0.,  0.],\n",
              "       [ 3., -1.,  1., -2.,  0.],\n",
              "       [ 6., -2.,  2., -4.,  0.]])"
            ]
          },
          "metadata": {},
          "execution_count": 23
        }
      ]
    },
    {
      "cell_type": "code",
      "source": [
        "x7.reshape(3,5,1)"
      ],
      "metadata": {
        "colab": {
          "base_uri": "https://localhost:8080/"
        },
        "id": "bcafZ1t4d5eq",
        "outputId": "72b6c363-0332-491c-d73d-d9edaddd49cb"
      },
      "execution_count": 24,
      "outputs": [
        {
          "output_type": "execute_result",
          "data": {
            "text/plain": [
              "array([[[ 0.],\n",
              "        [ 0.],\n",
              "        [ 0.],\n",
              "        [ 0.],\n",
              "        [ 0.]],\n",
              "\n",
              "       [[ 3.],\n",
              "        [-1.],\n",
              "        [ 1.],\n",
              "        [-2.],\n",
              "        [ 0.]],\n",
              "\n",
              "       [[ 6.],\n",
              "        [-2.],\n",
              "        [ 2.],\n",
              "        [-4.],\n",
              "        [ 0.]]])"
            ]
          },
          "metadata": {},
          "execution_count": 24
        }
      ]
    },
    {
      "cell_type": "code",
      "source": [
        "# 1.2.5. The expression to generate\n",
        "#>> [[  5.   2.]\n",
        "#    [-10.  -1.]\n",
        "#    [ -4.  -1.]]\n",
        "# is"
      ],
      "metadata": {
        "id": "E6KfeI_-wHu8"
      },
      "execution_count": 25,
      "outputs": []
    },
    {
      "cell_type": "code",
      "source": [
        "print(x2); print(x3); print(x6)"
      ],
      "metadata": {
        "colab": {
          "base_uri": "https://localhost:8080/"
        },
        "id": "cyhqGpG2cebV",
        "outputId": "3109060d-513a-4377-a6d6-0f145fc9600d"
      },
      "execution_count": 26,
      "outputs": [
        {
          "output_type": "stream",
          "name": "stdout",
          "text": [
            "\n",
            "[0. 1. 2.]\n",
            "<NDArray 3 @cpu(0)>\n",
            "\n",
            "[[ 3. -2.  0.]\n",
            " [ 2.  1.  1.]]\n",
            "<NDArray 2x3 @cpu(0)>\n",
            "\n",
            "[[1. 1. 1.]\n",
            " [1. 1. 1.]]\n",
            "<NDArray 2x3 @cpu(0)>\n"
          ]
        }
      ]
    },
    {
      "cell_type": "code",
      "source": [
        "((x3 + x6 + x6) - x2*6).T"
      ],
      "metadata": {
        "colab": {
          "base_uri": "https://localhost:8080/"
        },
        "id": "ivu-KeUTZ074",
        "outputId": "49a4e107-eb93-4d6d-ddb1-1414da0d46d4"
      },
      "execution_count": 39,
      "outputs": [
        {
          "output_type": "execute_result",
          "data": {
            "text/plain": [
              "\n",
              "[[  5.   4.]\n",
              " [ -6.  -3.]\n",
              " [-10.  -9.]]\n",
              "<NDArray 3x2 @cpu(0)>"
            ]
          },
          "metadata": {},
          "execution_count": 39
        }
      ]
    },
    {
      "cell_type": "code",
      "source": [
        "# I cannot answer this question but in my idea I think array x2, x3, and x6 may participate in the operation to be desired matrix."
      ],
      "metadata": {
        "id": "baWoualmgSe2"
      },
      "execution_count": 40,
      "outputs": []
    },
    {
      "cell_type": "code",
      "source": [],
      "metadata": {
        "id": "GNNd6VXh99Gx"
      },
      "execution_count": null,
      "outputs": []
    }
  ]
}